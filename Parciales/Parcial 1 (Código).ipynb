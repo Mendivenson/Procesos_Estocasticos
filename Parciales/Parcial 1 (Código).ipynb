{
 "cells": [
  {
   "cell_type": "markdown",
   "id": "c78cc4ff",
   "metadata": {},
   "source": [
    "# Parcial 1. Teoría de procesos estocásticos (2023-I)\n",
    "## Michel Mendivenson Barragán Zabala\n",
    "## 31/Marzo/2023\n",
    "El siguiente documento corresponde a la entrega del 60% de la nota del primer parcial del semestre 2023-I del curso de Teoría de Procesos Estocásticos dirigido por el profesor Viswanathan Arunachalam."
   ]
  },
  {
   "cell_type": "code",
   "execution_count": 1,
   "id": "18e4392a",
   "metadata": {
    "scrolled": true
   },
   "outputs": [],
   "source": [
    "import numpy as np\n",
    "#Importamos numpy para manipulación de matrices\n",
    "import random as rd\n",
    "#Imlportamos random para la simulación de las elecciones en una cadena de Markov.\n",
    "\n",
    "# Preparación inicial de una función que simula una cadena de Markov partiendo\n",
    "# de un punto de partida dado.\n",
    "def generar_cadena(estado_actual, matriz_de_transicion,posibles_estados,no):\n",
    "    # Esta función hace que la cadena cambie de estado\n",
    "    # (Todos los estados que sean necesarios) dado que ya \n",
    "    # se escogió el estado inicial de la cadena.\n",
    "    s = 1 #Inicializamos el contador para alcanzar la longitud requerida de la cadena.\n",
    "    cadena = [] #Se inicia una lista para guardar la cadena.\n",
    "    cadena.append(estado_actual) #Como la cadena ya está en el paso 1, agregamos ese estado a la cadena.\n",
    "    x_vec = matriz_de_transicion[posibles_estados.index(estado_actual)]\n",
    "    # Lo anterior es como escoger el vector de probabilidades asociado al\n",
    "    # estado en el que actualmente se encuentra la cadena.\n",
    "    while s < no:\n",
    "        # Siempre que no se halla alcanzado la longitud de la cadena deseada seguir calculando.\n",
    "        nuevo_estado = rd.choices(posibles_estados,x_vec)[0]\n",
    "        # La función random.choices() permite seleccionar un elemento o varios \n",
    "        # de una lista dada teniendo en cuenta un vector de probabilidades dado.\n",
    "        x_vec = matriz_de_transicion[posibles_estados.index(nuevo_estado)]\n",
    "        # Saltar al vector de probabilidades relacionado al estado seleccionado.\n",
    "        cadena.append(nuevo_estado) #Agregar el estado seleccionado a la cadena.\n",
    "        s = s+1 \n",
    "    return cadena"
   ]
  },
  {
   "cell_type": "markdown",
   "id": "2ce5daba",
   "metadata": {},
   "source": [
    "--- \n",
    "\n",
    "#### **Punto 1**\n",
    "\n",
    "Considera una cadena de Markov con espacio de estados $S = \\{0,1,2,3,4,5\\}$ y la matriz de probabilidades de transición:  \n",
    "\n",
    "$$P = \\begin{pmatrix}0&0&1&0&0&0\\\\\\:0&0&0&0&0&1\\\\ \\:0&0&0&0&1&0\\\\ \\:\\frac{1}{3}&\\frac{1}{3}&\\frac{1}{3}&0&0&0\\\\ \\:1&0&0&0&0&0\\\\ \\:0&\\frac{1}{2}&0&0&0&\\frac{1}{2}\\end{pmatrix}$$  \n",
    "  \n",
    "  \n",
    "   + Clasifica los estados a las clases.  \n",
    "   \n",
    "   + Estudia la recurrencia o transitoriedad de cada uno de los estados de la cadena.\n",
    "   \n",
    "   + Calcula el período de cada una de las clases recurrentes.\n",
    "   \n",
    "   + Identifica los estados ergódicos.\n"
   ]
  },
  {
   "cell_type": "markdown",
   "id": "9cf31004",
   "metadata": {},
   "source": [
    "---\n",
    "---\n",
    "\n",
    "##### **Análisis:**\n",
    "Como en este punto se pide clasificar los estados en clases, se crea una función ```clas_estados``` específicamente para cumplir esta tarea con cualquier matriz de probabilidades y con cualquier conjunto de estados dados."
   ]
  },
  {
   "cell_type": "code",
   "execution_count": 708,
   "id": "580e96f8",
   "metadata": {},
   "outputs": [],
   "source": [
    "# Creación de la función clas_estados\n",
    "def clase_estados(estados,matriz_transicion):\n",
    "    # Un diccionario que guardará como llaves \n",
    "    # los estados y como dato un conjunto de los estados\n",
    "    # con los que el estado de la llave se comunica.\n",
    "    clase_de_clases = {}\n",
    "    a = 0\n",
    "    #El siguiente método lo que hace es crear una lista de\n",
    "    #los estados alcanzables a partir de cierto estado en un solo paso.\n",
    "    while a < len(matriz_transicion):\n",
    "        clase_actual = []\n",
    "        cursor = 0 \n",
    "        while cursor < len(matriz_transicion[a]):\n",
    "            if matriz_transicion[a][cursor] != 0:\n",
    "                clase_actual.append(estados[cursor])\n",
    "            cursor += 1\n",
    "        #clase_actual.append(estados[a])\n",
    "        clase_de_clases[estados[a]] = clase_actual\n",
    "        a +=1\n",
    "    # En la próxima iteración, extendemos los estados alcanzables.\n",
    "    for i in clase_de_clases:\n",
    "        a = clase_de_clases[i] + [i]\n",
    "        for e in clase_de_clases[i]:\n",
    "            a = a + clase_de_clases[e]\n",
    "            clase_de_clases[i] = a\n",
    "    # Algunos estados quedan repetidos, el método set convierte\n",
    "    # cada lista en un conjunto para eliminar los elementos repetidos.\n",
    "    for i in clase_de_clases:\n",
    "        clase_de_clases[i] = set(clase_de_clases[i])\n",
    "    clases_alcanzables = clase_de_clases.copy()\n",
    "    # Con este método, si algún estado está comunicado con cualquier otro estado\n",
    "    # en cualquier número de pasos se consigna en una lista.\n",
    "    for i in clase_de_clases:\n",
    "        clase = []\n",
    "        for e in clase_de_clases[i]:\n",
    "            if i in clase_de_clases[e]:\n",
    "                clase = clase + [e]\n",
    "        clase_de_clases[i] = set(tuple(clase))\n",
    "    #La función retorna dos elementos, el primero sintetiza\n",
    "    #con un diccionario todos los estados alcanzables a partir\n",
    "    #de cualquier estado y el segundo no da las clases \n",
    "    # sintetizadas por estados.\n",
    "    return (clases_alcanzables,clase_de_clases)"
   ]
  },
  {
   "cell_type": "code",
   "execution_count": 716,
   "id": "d848a8fa",
   "metadata": {},
   "outputs": [
    {
     "name": "stdout",
     "output_type": "stream",
     "text": [
      "Las siguientes son las respectivas clases de cada uno de los estados:\n",
      "Para el estado 0 su clase es {0, 2, 4}\n",
      "Para el estado 1 su clase es {1, 5}\n",
      "Para el estado 2 su clase es {0, 2, 4}\n",
      "Para el estado 3 su clase es {3}\n",
      "Para el estado 4 su clase es {0, 2, 4}\n",
      "Para el estado 5 su clase es {1, 5}\n"
     ]
    }
   ],
   "source": [
    "P = [[0,0,1,0,0,0],\n",
    "     [0,0,0,0,0,1],\n",
    "     [0,0,0,0,1,0],\n",
    "     [1/3,1/3,1/3,0,0,0],\n",
    "     [1,0,0,0,0,0],\n",
    "     [0,1/2,0,0,0,1/2]]\n",
    "estados = [0,1,2,3,4,5]\n",
    "Sol_1 = clase_estados(estados, P)\n",
    "print(f'Las siguientes son las respectivas clases de cada uno de los estados:')\n",
    "for i in Sol_1[1]:\n",
    "    print(f'Para el estado {i} su clase es {Sol_1[1][i]}')"
   ]
  },
  {
   "cell_type": "markdown",
   "id": "e300cf13",
   "metadata": {},
   "source": [
    "Es decir, la cadena está compuesta de tres clases que son: $C_{0} = \\{0,2,4\\}$, $C_{1}=\\{1,5\\}$ y $C_{3} = \\{3\\}$. Además, por otro lado:"
   ]
  },
  {
   "cell_type": "code",
   "execution_count": 719,
   "id": "34d5c535",
   "metadata": {},
   "outputs": [
    {
     "name": "stdout",
     "output_type": "stream",
     "text": [
      "Las siguientes son las estados alcanzables a partir de cada uno de los estados:\n",
      "Para el estado 0 su clase es {0, 2, 4}\n",
      "Para el estado 1 su clase es {1, 5}\n",
      "Para el estado 2 su clase es {0, 2, 4}\n",
      "Para el estado 3 su clase es {0, 1, 2, 3, 4, 5}\n",
      "Para el estado 4 su clase es {0, 2, 4}\n",
      "Para el estado 5 su clase es {1, 5}\n"
     ]
    }
   ],
   "source": [
    "print(f'Las siguientes son las estados alcanzables a partir de cada uno de los estados:')\n",
    "for i in Sol_1[0]:\n",
    "    print(f'Para el estado {i} su clase es {Sol_1[0][i]}')"
   ]
  },
  {
   "cell_type": "markdown",
   "id": "d921b9ea",
   "metadata": {},
   "source": [
    "Como la clase comunicante de los estados 0,1,2,4,5 coincide con los estados alcanzables a partir de cada uno de estos estados, podemos decir que las clases $C_{0}$ y $C_{1}$ son cerradas (Y por ende recurrentes positivas) mientras que el estado 3 es transitorio."
   ]
  },
  {
   "cell_type": "markdown",
   "id": "897ca196",
   "metadata": {},
   "source": [
    "Finalmente, la clase $C_{0}$ no es ergódica porque partiendo de cualquier estado pertenenciente a ésta siempre habrán tres pasos para volver a llegar al mismo estado, es decir, la clase tiene período 3. Mientras que la clase $C_{1}$ si es ergódica pues su período es 1 ya que es posible volver de 5 a 5 en un sólo paso."
   ]
  },
  {
   "cell_type": "markdown",
   "id": "21cbaffe",
   "metadata": {},
   "source": [
    "--- \n",
    "\n",
    "#### **Punto 2**\n",
    "\n",
    "Considera una caminata aleatoria con los estados $S=\\{-2,-1,0,1,2\\}$. Si el proceso está en estado $i(i = -1,0,1)$, entonces se mueve a cualquier $i-1$ o $i+1$ con igual probabilidad. Si el proceso se encuentra en el estado $-2$ o $2$ en el tiempo n, entonces se mueve al estado $-1,0$ o $1$ en el tiempo $n+1$ con probabilidad igual. \n",
    "\n",
    "\n",
    "- Escriba la matriz de probabilidad de transición para esta caminata aleatoria.\n",
    "- Calcule la distribución estacionaria.\n",
    "\n",
    "---\n",
    "---\n",
    "\n",
    "##### **Análisis:**\n",
    "\n",
    "Por lo que dice el enunciado la matriz de probabilidades de transición de la caminata aleatoria queda definida como:\n",
    "\n",
    "$$P = \\begin{matrix}&-2&-1&0&1&2\\\\ -2&0&\\frac{1}{3}&\\frac{1}{3}&\\frac{1}{3}&0\\\\ -1&\\frac{1}{2}&0&\\frac{1}{2}&0&0\\\\ 0&0&\\frac{1}{2}&0&\\frac{1}{2}&0\\\\ 1&0&0&\\frac{1}{2}&0&\\frac{1}{2}\\\\ 2&0&\\frac{1}{3}&\\frac{1}{3}&\\frac{1}{3}&0\\end{matrix}$$"
   ]
  },
  {
   "cell_type": "code",
   "execution_count": 286,
   "id": "edd55540",
   "metadata": {},
   "outputs": [
    {
     "name": "stdout",
     "output_type": "stream",
     "text": [
      "El vector de distribución estacionaria resultante es [0.11538462 0.23076923 0.30769231 0.23076923 0.11538462]\n"
     ]
    }
   ],
   "source": [
    "#Valiendonos del método numpy, podemos calcular la distribución estacionaria\n",
    "#usando el método dado en Adventures In Stochastic Processes pag. 138:\n",
    "\n",
    "P = np.array([[0,1/3,1/3,1/3,0],\n",
    "              [1/2,0,1/2,0,0],\n",
    "              [0,1/2,0,1/2,0],\n",
    "              [0,0,1/2,0,1/2],\n",
    "              [0,1/3,1/3,1/3,0]])\n",
    "x = np.array([1,1,1,1,1])\n",
    "ONE = np.ones((5,5))\n",
    "# El método np.ones crea una matriz de unos con las dimensiones específicadas.\n",
    "# El método np.identity crea la matriz identidad con las dimensiones específicadas.\n",
    "Dist_Est = x.dot(np.linalg.inv(np.identity(5)-P+ONE))\n",
    "print(f'El vector de distribución estacionaria resultante es {Dist_Est}')"
   ]
  },
  {
   "cell_type": "code",
   "execution_count": 290,
   "id": "ca72c1d7",
   "metadata": {},
   "outputs": [
    {
     "name": "stdout",
     "output_type": "stream",
     "text": [
      "El vector de distribución estacionaria debería ser apróximadamente:\n",
      "-2 (0.114737)\n",
      "-1 (0.23072)\n",
      " 0 (0.308379)\n",
      " 1 (0.230854)\n",
      " 2 (0.11531)\n"
     ]
    }
   ],
   "source": [
    "#También es posible conocer una apróximación de este número con una simulación.\n",
    "estados = ['-2','-1','0','1','2']\n",
    "P = np.array([[0,1/3,1/3,1/3,0],\n",
    "              [1/2,0,1/2,0,0],\n",
    "              [0,1/2,0,1/2,0],\n",
    "              [0,0,1/2,0,1/2],\n",
    "              [0,1/3,1/3,1/3,0]])\n",
    "a = generar_cadena(rd.choices(estados)[0],P,estados,1000000)\n",
    "print(f'El vector de distribución estacionaria debería ser apróximadamente:')\n",
    "print(f'-2 ({a.count(\"-2\")/1000000})')\n",
    "print(f'-1 ({a.count(\"-1\")/1000000})')\n",
    "print(f' 0 ({a.count(\"0\")/1000000})')\n",
    "print(f' 1 ({a.count(\"1\")/1000000})')\n",
    "print(f' 2 ({a.count(\"2\")/1000000})')"
   ]
  },
  {
   "cell_type": "markdown",
   "id": "ac00fbc2",
   "metadata": {},
   "source": [
    "--- \n",
    "#### **Punto 3**\n",
    "\n",
    "En la oficina de Admisiones de la Universidad Nacional se ha obtenido la información necesaria para las siguientes estadísticas sobre un programa de Magíster que dura tres niveles: el 70% de los estudiantes que ingresan al primer nivel pasan con éxito al segundo nivel, el 10% lo tiene que repetir y el 20% restante se retira por diferentes motivos; de todos los estudiantes que pasan al segundo nivel, el 80% accede al tercer nivel, el 8% repite y el 12% restante sale del programa por bajo nivel académico o por otras razones; de todos los estudiantes que ingresan al tercer nivel el 90% se ha graduado, el 6% lo tiene que repetir, y el 4% restante no puede optar al titulo y los retiran por no cumplir las normas estipuladas.\n",
    "\n",
    "- ¿Cuántos alumnos lograrán el título de Magíster de un grupo de 100 aspirantes que se matricularon en primer nivel?\n",
    "- Si cada nivel dura un semestre, durante cuántos años se deberá ofrecer este Magíster si el país necesita aproximadamente 500 especialistas en esta área, sabiendo que esta universidad sólo está en capacidad de recibir, como máximo, 50 alumnos nuevos cada semestre?\n",
    "\n",
    "---\n",
    "---\n",
    "##### **Análisis:**\n",
    "\n",
    "- **¿Cuántos alumnos llegarán a graduarse de los 100 que se inscribieron en el primer nivel?** \n",
    "Notése que a pesar de que inicialmente se podrían considerar tres estados solamente: *\"Primer nivel\"*, *\"Segundo nivel\"* y *\"Tercer nivel\"*, es más adecuado para el problema tener en cuenta que el estado *\"Retirado\"* y el estado *\"Graduado\"* también hacen parte de los estados del proceso. Más que eso, son estados absorbentes. Modelemos este proceso como una cadena de Markov entonces, con estados:\n",
    "    + R: \"Retirado\"\n",
    "    + 1: \"Primer nivel\"\n",
    "    + 2: \"Segundo nivel\"\n",
    "    + 3: \"Tercer nivel\"\n",
    "    + G: \"Graduado\"\n",
    "Luego, la probabilidad que se nos pregunta es equivalente a la probabilidad de que se alcance primero el estado G antes que el estado R. \n",
    "\n",
    "La matriz de probabilidades de transición del proceso quedaría definida de la siguiente forma:\n",
    "\n",
    "$$P = \\begin{matrix}&&R&1&2&3&G\\\\ &&&&&&\\\\ R&&1&0&0&0&0\\\\ 1&&0.2&0.1&0.7&0&0\\\\ 2&&0.12&0&0.08&0.8&0\\\\ 3&&0.04&0&0&0.06&0.9\\\\ G&&0&0&0&0&1\\end{matrix}$$\n",
    "\n",
    "Si tomamos la matriz de probabilidades de transición entre estados no absorbentes como:\n",
    "\n",
    "$$Q = \\begin{matrix}&&1&2&3\\\\ &&&&\\\\ 1&&0.1&0.7&0\\\\ 2&&0&0.08&0.8\\\\ 3&&0&0&0.06\\end{matrix}$$\n",
    "\n",
    "Y la matriz de transición partiendo de los estados no absorbentes a los estados absorbentes como:\n",
    "\n",
    "$$R = \\begin{matrix}&&R&G\\\\ &&&\\\\ 1&&0.2&0\\\\ 2&&0.12&0\\\\ 3&&0.04&0.9\\end{matrix}$$\n",
    "\n",
    "Entonces podremos conocer la probabilidad con la que partiendo de un estado no absorbente caemos en uno que sí lo es mediante el cálculo de $(I-Q)^{-1}R$"
   ]
  },
  {
   "cell_type": "code",
   "execution_count": 2,
   "id": "2f88bdab",
   "metadata": {},
   "outputs": [
    {
     "name": "stdout",
     "output_type": "stream",
     "text": [
      "La matriz resultante de la operación (I-Q)⁻¹R) es:\n",
      " [[0.35245143 0.64754857]\n",
      " [0.16743756 0.83256244]\n",
      " [0.04255319 0.95744681]]\n",
      "\n",
      "Es decir, la probabilidad de que un estudiante que haya iniciado en\n",
      "el primer nivel se gradué es de 0.6475485661424606 y por ende podemos decir\n",
      "que de cada 100 estudiantes deberían llegar graduarse alrededor de 65\n"
     ]
    }
   ],
   "source": [
    "Q = np.array([[0.1,0.7,0],\n",
    "              [0,0.08,0.8],\n",
    "              [0,0,0.06]])\n",
    "\n",
    "R = np.array([[0.2,0],\n",
    "              [0.12,0],\n",
    "              [0.04,0.9]])\n",
    "\n",
    "Sol_2 = np.linalg.inv(np.identity(3)-Q).dot(R)\n",
    "print(f'La matriz resultante de la operación (I-Q)⁻¹R es:\\n {Sol_2}')\n",
    "print(f'\\nEs decir, la probabilidad de que un estudiante que haya iniciado en')\n",
    "print(f'el primer nivel se gradué es de {Sol_2[0][1]} y por ende podemos decir')\n",
    "print(f'que de cada 100 estudiantes deberían llegar graduarse alrededor de {round(Sol_2[0][1]*100)}')"
   ]
  },
  {
   "cell_type": "code",
   "execution_count": 179,
   "id": "2b15b3f0",
   "metadata": {
    "scrolled": true
   },
   "outputs": [
    {
     "name": "stdout",
     "output_type": "stream",
     "text": [
      "Notése que de 100 veces que se hizo correr el proceso, resultaron graduados 65 estudiantes\n"
     ]
    }
   ],
   "source": [
    "#La siguiente es una simulación del problema planteado.\n",
    "counter = 0\n",
    "estados = ['R','1','2','3','G']\n",
    "estado_inicial = '1'\n",
    "P = [[1,0,0,0,0],\n",
    "     [0.2,0.1,0.7,0,0],\n",
    "     [0.12,0,0.08,0.8,0],\n",
    "     [0.04,0,0,0.06,0.9],\n",
    "     [0,0,0,0,1]]\n",
    "for i in range (0,100):\n",
    "    a = generar_cadena(estado_inicial, P,estados,6)\n",
    "    if a[-1] == 'G':\n",
    "        counter +=1\n",
    "print(f'Notése que de 100 veces que se hizo correr el proceso, resultaron graduados {counter} estudiantes')\n",
    "\n",
    "#Sin embargo, esta cantidad de estudiantes puede alejarse un poco de los\n",
    "#previstos 65 pues es sólo una simulación e incluso dada la longitud de\n",
    "#la cadena generada (6) aún pueden haber alumnos que están en alguno\n",
    "#de los tres niveles. Para conocer una aproximación podríamos generar \n",
    "#la misma simulación muchas veces y promediar los resultados (Teniendo\n",
    "#también en cuenta que los estudiantes ya no estén dentro del programa)"
   ]
  },
  {
   "cell_type": "markdown",
   "id": "7f9833ee",
   "metadata": {},
   "source": [
    "- Si cada nivel dura un semestre, durante cuántos años se deberá ofrecer este Magíster si el país necesita aproximadamente 500 especialistas en esta área, sabiendo que esta universidad sólo está en capacidad de recibir, como máximo, 50 alumnos nuevos cada semestre?"
   ]
  },
  {
   "cell_type": "markdown",
   "id": "71e0c0dd",
   "metadata": {},
   "source": [
    "Por otro lado, la matriz $(I-Q)^{-1}$, específicamente su fila 1, nos dice en promedio cuántos semestres pasa el estudiante en cada uno de los niveles luego de entrar al primer nivel hasta que se gradue o se retire. Y la suma de los componentes de dicha fila resulta ser el tiempo medio en que un estudiante dura en el programa si empezó desde el nivel 1."
   ]
  },
  {
   "cell_type": "code",
   "execution_count": 181,
   "id": "8321c724",
   "metadata": {},
   "outputs": [
    {
     "name": "stdout",
     "output_type": "stream",
     "text": [
      "Los estudiantes que entran al programa tiende a tardar apróximadamente 2.676020145955391 semestres antes de salir del programa. bien sea como estudiantes graduados o retirados.\n"
     ]
    }
   ],
   "source": [
    "# Tiempo promedio que dura un estudiante en el programa:\n",
    "Sol4_2 = np.linalg.inv(np.identity(3)-Q).dot(np.array([[1],[1],[1]]))\n",
    "print(f'Los estudiantes que entran al programa tiende a tardar apróximadamente {(np.linalg.inv(np.identity(3)-Q).dot(np.array([[1],[1],[1]])))[0][0]} semestres antes de salir del programa. bien sea como estudiantes graduados o retirados.')"
   ]
  },
  {
   "cell_type": "markdown",
   "id": "b2dc6b72",
   "metadata": {},
   "source": [
    "Ahora bien, por el punto anterior sabemos que cada estudiante que entre al programa tiene una posibilidad del 0.68 apróximadamente de salir graduado y una probabilidad de 0.32 de no poder culminar el programa de Magíster. Esto quiere decir que de cada cincuenta alumnos que ingresen se graduarán apróximadamente unos 34 alumnos. Teniendo esto en consideración. Por cada ciclo realmente sólo se estarán graduando 34 alumnos con una media de duración de 3 semestres. Es decir, el programa necesita estar activo por apróximadamente $\\frac{500}{34} + 2$ semestres (Donde $\\frac{500}{34}$ corresponde a los semestres en que entran las personas necesarias y los 2 semestres a los semestres en los que los últimos estudiantes culminan su ciclo), algo así como 17 semestres (8 años y medio). Haciendo los cálculos con las probabilidades exactas, el programa debería estar vigente durante 17.443 semestres para lograr graduar 500 estudiantes."
   ]
  },
  {
   "attachments": {
    "image.png": {
     "image/png": "[encoded data removed]"
    }
   },
   "cell_type": "markdown",
   "id": "15d7d69e",
   "metadata": {},
   "source": [
    "---\n",
    "\n",
    "#### **Punto 4**\n",
    "\n",
    "A rat is put into compartment 4 of the maze. He moves through the compartments at random; i.e. if there are $k$ ways to leave a compartment, he chooses each of these with probability $\\frac{1}{k}$. What is the probability the rat finds the food in compartment $3$ before feeling the electric shock in compartment $7$? The maze is represented in the next image:\n",
    "\n",
    "![image.png](attachment:image.png)\n",
    "\n",
    "---\n",
    "---\n",
    "\n",
    "##### **Análisis:**\n",
    "\n",
    "Notesé que el acto del ratón eligiendo un camino u otro corresponde a una cadena de Markov con matriz de transición definida como:\n",
    "\n",
    "$$P = \\begin{matrix}&1&2&3&4&5&6&7\\\\ 1&0&\\frac{1}{2}&0&\\frac{1}{2}&0&0&0\\\\ 2&\\frac{1}{3}&0&\\frac{1}{3}&0&\\frac{1}{3}&0&0\\\\ 3&0&\\frac{1}{2}&0&0&0&\\frac{1}{2}&0\\\\ 4&\\frac{1}{3}&0&0&0&\\frac{1}{3}&0&\\frac{1}{3}\\\\ 5&0&\\frac{1}{3}&0&\\frac{1}{3}&0&\\frac{1}{3}&0\\\\ 6&0&0&\\frac{1}{2}&0&\\frac{1}{2}&0&0\\\\ 7&0&0&0&1&0&0&0\\end{matrix}$$\n",
    "\n",
    "Sin embargo, para responder la pregunta qué se hace podemos ver a 3 y a 7 como estados absorbentes convirtiendose la matriz $P$ en la siguiente matriz:\n",
    "\n",
    "$$P' = \\begin{matrix}&1&2&3&4&5&6&7\\\\ 1&0&\\frac{1}{2}&0&\\frac{1}{2}&0&0&0\\\\ 2&\\frac{1}{3}&0&\\frac{1}{3}&0&\\frac{1}{3}&0&0\\\\ 3&0&0&1&0&0&0&0\\\\ 4&\\frac{1}{3}&0&0&0&\\frac{1}{3}&0&\\frac{1}{3}\\\\ 5&0&\\frac{1}{3}&0&\\frac{1}{3}&0&\\frac{1}{3}&0\\\\ 6&0&0&\\frac{1}{2}&0&\\frac{1}{2}&0&0\\\\ 7&0&0&0&0&0&0&1\\end{matrix}$$\n",
    "\n",
    "Y así, podemos tomar la matriz de transición entre los estados no absorbentes:\n",
    "\n",
    "$$Q = \\begin{matrix}&&1&2&4&5&6\\\\ &&&&&&\\\\ 1&&0&\\frac{1}{2}&\\frac{1}{2}&0&0\\\\ 2&&\\frac{1}{3}&0&0&\\frac{1}{3}&0\\\\ 4&&\\frac{1}{3}&0&0&\\frac{1}{3}&0\\\\ 5&&0&\\frac{1}{3}&\\frac{1}{3}&0&\\frac{1}{3}\\\\ 6&&0&0&0&\\frac{1}{2}&0\\end{matrix}$$\n",
    "\n",
    "Y la matriz de transición desde los estados no absorbentes a los estados absorbentes:\n",
    "\n",
    "$$R = \\begin{matrix}&&3&7&&&\\\\ \\:&&&&&&\\\\ \\:1&&0&0&&&\\\\ \\:2&&\\frac{1}{3}&0&&&\\\\ \\:4&&0&\\frac{1}{3}&&&\\\\ \\:5&&0&0&&&\\\\ \\:6&&\\frac{1}{2}&0&&&\\end{matrix}$$\n",
    "\n",
    "\n",
    "Y finalmente, la coordenada $(4,3)$ de la matriz resultante de $(I-Q)^{-1}R$ nos dirá la probabilidad de que, partiendo de 4, la rata llegue antes a 3 que a 7."
   ]
  },
  {
   "cell_type": "code",
   "execution_count": 72,
   "id": "1b0bcabf",
   "metadata": {
    "scrolled": true
   },
   "outputs": [
    {
     "name": "stdout",
     "output_type": "stream",
     "text": [
      "La matriz resultante de esta operación es:\n",
      "\n",
      "[[0.58 0.42]\n",
      " [0.75 0.25]\n",
      " [0.42 0.58]\n",
      " [0.67 0.33]\n",
      " [0.83 0.17]]\n",
      "\n",
      "Es decir, la probabilidad de que el ratón llegué al compartimento\n",
      "3 partiendo desde el 4 antes de llegar a el compartimento 7 es 0.42\n"
     ]
    }
   ],
   "source": [
    "# Se define la matriz Q(Matriz de transición entre estados no absorbentes).\n",
    "Q = np.array([[0,1/2,1/2,0,0],\n",
    "              [1/3,0,0,1/3,0],\n",
    "              [1/3,0,0,1/3,0],\n",
    "              [0,1/3,1/3,0,1/3],\n",
    "              [0,0,0,1/2,0]])\n",
    "\n",
    "# Se define la matriz R (Matriz de transición de los estados no \n",
    "# absorbentes a los que sí lo son)\n",
    "R = np.array([[0,0],[1/3,0],[0,1/3],[0,0],[1/2,0]])\n",
    "\n",
    "# La mtriz solución del punto 4 entonces será:\n",
    "Sol_4 = np.linalg.inv(np.identity(5)-Q).dot(R)\n",
    "\n",
    "# Notése que el método a.dot(b) siendo a y b objetos numpy,\n",
    "# representa la multipliación de matrices y que la función\n",
    "# np.linalg.inv() es el equivalente a hallar la inversa de la matriz.\n",
    "print(f'La matriz resultante de esta operación es:\\n')\n",
    "print(np.round(Sol_4,decimals = 2))\n",
    "print(f'\\nEs decir, la probabilidad de que el ratón llegué al compartimento')\n",
    "print(f'3 partiendo desde el 4 antes de llegar a el compartimento 7 es {np.round(Sol_4,decimals = 2)[2][0]}')"
   ]
  },
  {
   "cell_type": "code",
   "execution_count": 236,
   "id": "78da8c4b",
   "metadata": {
    "scrolled": true
   },
   "outputs": [
    {
     "name": "stdout",
     "output_type": "stream",
     "text": [
      "Luego de 10000 simulaciones la probabilidad aproximada de que el\n",
      "ratón llegué antes al compartimento 3 que al 7 es de: 0.4176\n"
     ]
    }
   ],
   "source": [
    "# Igualmente, podemos aproximar la probabilidad pedida con una simulación:\n",
    "P = [[0,1/2,0,1/2,0,0,0],\n",
    "     [1/3,0,1/3,0,1/3,0,0],\n",
    "     [0,0,1,0,0,0,0],\n",
    "     [1/3,0,0,0,1/3,0,1/3],\n",
    "     [0,1/3,0,1/3,0,1/3,0],\n",
    "     [0,0,1/2,0,1/2,0,0],\n",
    "     [0,0,0,0,0,0,1]]\n",
    "counter = 0\n",
    "estados = [1,2,3,4,5,6,7]\n",
    "estados_inicial = 4\n",
    "counter2 = 0\n",
    "\n",
    "for i in range (0,10000):\n",
    "    a = generar_cadena(estado_inicial, P,estados,30)\n",
    "    if a[-1] == 3:\n",
    "        counter += 1\n",
    "print(f'Luego de 10000 simulaciones la probabilidad aproximada de que el')\n",
    "print(f'ratón llegué antes al compartimento 3 que al 7 es de: {counter/10000}')"
   ]
  },
  {
   "cell_type": "markdown",
   "id": "b79a2c11",
   "metadata": {},
   "source": [
    "---\n",
    "\n",
    "#### **Punto 5**\n",
    "\n",
    "El señor Peréz desea invertir su capital en acciones de de Ecopetrol. De acuerdo al estudio que realizó, el comportamiento diario de las acciones de Ecopetrol en el mercado accionario nacional puede clasificarse en tres categorías: alza(A), estable(E) y baja(B). Además el señor Peréz observó que dicho comportamiento es una variable aleatoria que depende sólo del comportamiento en el día anterior. Supóngase que la siguiente matriz de transición representa las probabilidades del mercado accionario:\n",
    "\n",
    "$$P = \\begin{matrix}&A&E&B\\\\ A&0.7&0.2&0.1\\\\ E&0.3&0.5&0.2\\\\ B&0.1&0.4&0.5\\end{matrix}$$\n",
    "\n",
    "Como el señor Pérez tiene también la opción de invertir en las acciones de Davivienda, él decide observar el comportamiento de las acciones de Ecopetrol durante tres días consecutivos, si durante esos tres días él observa que las acciones de Ecopetrol se han mantenido al alza, entonces él invertirá todo su dinero en dichas acciones, si durante esos tres días las acciones han estado a la baja, entonces él invertirá todo su dinero en las acciones de Davivienda, si se mantienen estables él postergará su decisión de invertir. Supóngase que las probabilidades de que las acciones de Ecopetrol se encuentren al alza, estables o a la baja, el día en que el señor Pérez decide iniciar su observación,\n",
    "son respectivamente 0,2, 0,5, 0,3.\n",
    "\n",
    "- Calcular la probabilidad de que el señor Pérez invierta todo su dinero en acciones de Ecopetrol.\n",
    "\n",
    "- Calcular la probabilidad de que el señor Pérez invierta todo su dinero en acciones de Davivienda.\n",
    "\n",
    "- ¿Cuál es la probabilidad de que, a la larga, las acciones se mantengan estables?\n",
    "\n",
    "---\n",
    "---\n",
    "##### **Análisis:**\n",
    "- **Cálculo de la probabilidad de tres días seguidos a la alza y de tres días seguidos a la baja.**\n",
    "Por lo que dice el enunciado decimos que el proceso analizado es una cadena de Markov. Si decimos que $(X_{n}) _{n \\in \\mathbb(N)}$ es el proceso donde definimos: \n",
    "\n",
    "$$X_{n} = \\text{ Comportamiento de las acciones de Ecopetrol en el día } n$$\n",
    "\n",
    "entonces la pregunta sobre la probabilidad de que el señor Pérez finalmente se decide a invertir su dinero en Ecopetrol puede ser vista como la probabilidad de que $P(X_{2}=A,X_{1}=A,X_{0}=A|X)$ y la pregunta sobre la proabilidad de finalmente invertir sus acciones en Davivienda como la probabilidad $P(X_{2}=B,X_{1}=B,X_{0}=B)$.\n",
    "\n",
    "Estas probabilidades también pueden ser vistas como:\n",
    "- $P(X_{2}=A,X_{1}=A,X_{0}=A) = P(X_{2}=A|X_{1}=A)\\cdot P(X_{1}=A|X_{0}=A)\\cdot P(X_{0} = A)$\n",
    "- $P(X_{2}=B,X_{1}=B,X_{0}=B) = P(X_{2}=A|X_{1}=B)\\cdot P(X_{1}=B|X_{0}=B)\\cdot P(X_{0} = B)$\n",
    "\n",
    "Es decir, la probabilidad de que el señor Pérez finalmente decida invertir en Ecopetrol está dada por:\n",
    "$$P(X_{0}=A)\\cdot p_{AA} \\cdot p_{AA}$$\n",
    "Y la probabilidad de que termine invirtiendo en Davivienda está dada por\n",
    "$$P(X_{0}=B)\\cdot p_{BB} \\cdot p_{BB}$$"
   ]
  },
  {
   "cell_type": "code",
   "execution_count": 261,
   "id": "236bf08a",
   "metadata": {},
   "outputs": [
    {
     "name": "stdout",
     "output_type": "stream",
     "text": [
      "La probabilidad de que el señor Pérez finalmente\n",
      "invierta en Ecopetrol es de: 0.098 y la probabilidad\n",
      "de que finalmente invierta en Davivienda es de 0.075\n"
     ]
    }
   ],
   "source": [
    "# Notese que P(X_{0} = A) corresponde a:\n",
    "P0A = 0.2\n",
    "# y que p_{AA} corresponde a:\n",
    "pAA = 0.7\n",
    "# Notese que P(X_{0} = B) corresponde a:\n",
    "P0B = 0.3\n",
    "# y que p_{BB} corresponde a:\n",
    "pBB = 0.5\n",
    "\n",
    "print(f'La probabilidad de que el señor Pérez finalmente')\n",
    "print(f'invierta en Ecopetrol es de: {round(P0A*pAA*pAA,6)} y la probabilidad')\n",
    "print(f'de que finalmente invierta en Davivienda es de {P0B*pBB*pBB}')"
   ]
  },
  {
   "cell_type": "code",
   "execution_count": 88,
   "id": "b289dac7",
   "metadata": {},
   "outputs": [
    {
     "name": "stdout",
     "output_type": "stream",
     "text": [
      "La probabilidad de que se invierta en Ecopetrol es de: 0.098094\n",
      "Mientras que la probabilidad de que se invierta en Davivienda es de0.074626\n"
     ]
    }
   ],
   "source": [
    "#También podemos aproximar la probabilidad mediante una simulación.\n",
    "counterEco = 0\n",
    "counterDav = 0\n",
    "estados = ['A','E','B']\n",
    "Init_distr = [0.2,0.5,0.3]\n",
    "P = [[0.7,0.2,0.1],\n",
    "     [0.3,0.5,0.2],\n",
    "     [0.1,0.4,0.5]]\n",
    "for i in range (0,1000000):\n",
    "    estado_inicial = rd.choices(estados, Init_distr)[0]\n",
    "    a = generar_cadena(estado_inicial, P,estados,3)\n",
    "    if a.count('A') == 3:\n",
    "        counterEco += 1\n",
    "    elif a.count('B') == 3:\n",
    "        counterDav += 1\n",
    "print(f'La probabilidad de que se invierta en Ecopetrol es de: {(counterEco)/1000000}')\n",
    "print(f'Mientras que la probabilidad de que se invierta en Davivienda es de {counterDav/1000000}')"
   ]
  },
  {
   "cell_type": "markdown",
   "id": "e9f264bc",
   "metadata": {},
   "source": [
    "Por otra parte, respecto a cuál es la probabilidad de que a la larga las acciones se mantengan estables, podemos usar la distribución estacionaria de la cadena para encontrar esta probabilidad. La distribución estacionaria estará dada por el vector $\\pi$ que es la solución de la ecuación $\\pi P = \\pi$ con $P$ la matriz de las probabilidades de transición. "
   ]
  },
  {
   "cell_type": "code",
   "execution_count": 262,
   "id": "ba3faa69",
   "metadata": {},
   "outputs": [
    {
     "name": "stdout",
     "output_type": "stream",
     "text": [
      "El vector de distribución estacionaria resultante es [0.425 0.35  0.225]\n",
      "de donde podemos decir que a la larga las acciones de Ecopetrol se mantendran estables\n",
      "con una probabilidad de 0.35\n"
     ]
    }
   ],
   "source": [
    "#Valiendonos del método numpy, podemos calcular la distribución estacionaria\n",
    "#usando el método dado en Adventures In Stochastic Processes pag. 138:\n",
    "P = np.array([[0.7,0.2,0.1],\n",
    "              [0.3,0.5,0.2],\n",
    "              [0.1,0.4,0.5]])\n",
    "x = np.array([1,1,1])\n",
    "ONE = np.array([[1,1,1],\n",
    "               [1,1,1],\n",
    "               [1,1,1]])\n",
    "Dist_Est = x.dot(np.linalg.inv(np.identity(3)-P+ONE))\n",
    "print(f'El vector de distribución estacionaria resultante es {Dist_Est}')\n",
    "print(f'de donde podemos decir que a la larga las acciones de Ecopetrol se mantendran estables')\n",
    "print(f'con una probabilidad de {Dist_Est[1]}')"
   ]
  },
  {
   "cell_type": "code",
   "execution_count": 118,
   "id": "321a7cd7",
   "metadata": {},
   "outputs": [
    {
     "name": "stdout",
     "output_type": "stream",
     "text": [
      "Las acciones de ecopetrol se mantendrán estables con una probabilidad de alrededor de 0.349157\n"
     ]
    }
   ],
   "source": [
    "# De nuevo, también podemos dar una aproximación del valor pedido mediante simulación así:\n",
    "a = generar_cadena(rd.choices(estados, Init_distr)[0],P,estados,1000000)\n",
    "print(f'Las acciones de ecopetrol se mantendrán estables con una probabilidad de alrededor de {a.count(\"E\")/1000000}')"
   ]
  }
 ],
 "metadata": {
  "kernelspec": {
   "display_name": "Python 3 (ipykernel)",
   "language": "python",
   "name": "python3"
  },
  "language_info": {
   "codemirror_mode": {
    "name": "ipython",
    "version": 3
   },
   "file_extension": ".py",
   "mimetype": "text/x-python",
   "name": "python",
   "nbconvert_exporter": "python",
   "pygments_lexer": "ipython3",
   "version": "3.11.2"
  }
 },
 "nbformat": 4,
 "nbformat_minor": 5
}
